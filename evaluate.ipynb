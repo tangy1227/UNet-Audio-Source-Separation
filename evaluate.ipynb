{
 "cells": [
  {
   "cell_type": "code",
   "execution_count": 1,
   "metadata": {},
   "outputs": [],
   "source": [
    "import musdb\n",
    "import torch\n",
    "import random\n",
    "import numpy as np\n",
    "from museval import metrics\n",
    "from splitter import Splitter\n",
    "from util import utility\n",
    "from pathlib import Path\n",
    "import IPython.display as ipd\n",
    "import soundfile\n",
    "\n",
    "import json\n",
    "import numpy as np\n",
    "import matplotlib.pyplot as plt\n",
    "# /home/ytang363/miniconda3/envs/conda_env/lib/python3.8/site-packages/tensorboard"
   ]
  },
  {
   "cell_type": "code",
   "execution_count": 2,
   "metadata": {},
   "outputs": [
    {
     "name": "stdout",
     "output_type": "stream",
     "text": [
      "odict_keys(['stems.vocals.encoder_layers.0.conv.weight', 'stems.vocals.encoder_layers.0.conv.bias', 'stems.vocals.encoder_layers.0.bn.weight', 'stems.vocals.encoder_layers.0.bn.bias', 'stems.vocals.encoder_layers.0.bn.running_mean', 'stems.vocals.encoder_layers.0.bn.running_var', 'stems.vocals.encoder_layers.0.bn.num_batches_tracked', 'stems.vocals.encoder_layers.1.conv.weight', 'stems.vocals.encoder_layers.1.conv.bias', 'stems.vocals.encoder_layers.1.bn.weight', 'stems.vocals.encoder_layers.1.bn.bias', 'stems.vocals.encoder_layers.1.bn.running_mean', 'stems.vocals.encoder_layers.1.bn.running_var', 'stems.vocals.encoder_layers.1.bn.num_batches_tracked', 'stems.vocals.encoder_layers.2.conv.weight', 'stems.vocals.encoder_layers.2.conv.bias', 'stems.vocals.encoder_layers.2.bn.weight', 'stems.vocals.encoder_layers.2.bn.bias', 'stems.vocals.encoder_layers.2.bn.running_mean', 'stems.vocals.encoder_layers.2.bn.running_var', 'stems.vocals.encoder_layers.2.bn.num_batches_tracked', 'stems.vocals.encoder_layers.3.conv.weight', 'stems.vocals.encoder_layers.3.conv.bias', 'stems.vocals.encoder_layers.3.bn.weight', 'stems.vocals.encoder_layers.3.bn.bias', 'stems.vocals.encoder_layers.3.bn.running_mean', 'stems.vocals.encoder_layers.3.bn.running_var', 'stems.vocals.encoder_layers.3.bn.num_batches_tracked', 'stems.vocals.encoder_layers.4.conv.weight', 'stems.vocals.encoder_layers.4.conv.bias', 'stems.vocals.encoder_layers.4.bn.weight', 'stems.vocals.encoder_layers.4.bn.bias', 'stems.vocals.encoder_layers.4.bn.running_mean', 'stems.vocals.encoder_layers.4.bn.running_var', 'stems.vocals.encoder_layers.4.bn.num_batches_tracked', 'stems.vocals.encoder_layers.5.conv.weight', 'stems.vocals.encoder_layers.5.conv.bias', 'stems.vocals.encoder_layers.5.bn.weight', 'stems.vocals.encoder_layers.5.bn.bias', 'stems.vocals.encoder_layers.5.bn.running_mean', 'stems.vocals.encoder_layers.5.bn.running_var', 'stems.vocals.encoder_layers.5.bn.num_batches_tracked', 'stems.vocals.decoder_layers.0.tconv.weight', 'stems.vocals.decoder_layers.0.tconv.bias', 'stems.vocals.decoder_layers.0.bn.weight', 'stems.vocals.decoder_layers.0.bn.bias', 'stems.vocals.decoder_layers.0.bn.running_mean', 'stems.vocals.decoder_layers.0.bn.running_var', 'stems.vocals.decoder_layers.0.bn.num_batches_tracked', 'stems.vocals.decoder_layers.1.tconv.weight', 'stems.vocals.decoder_layers.1.tconv.bias', 'stems.vocals.decoder_layers.1.bn.weight', 'stems.vocals.decoder_layers.1.bn.bias', 'stems.vocals.decoder_layers.1.bn.running_mean', 'stems.vocals.decoder_layers.1.bn.running_var', 'stems.vocals.decoder_layers.1.bn.num_batches_tracked', 'stems.vocals.decoder_layers.2.tconv.weight', 'stems.vocals.decoder_layers.2.tconv.bias', 'stems.vocals.decoder_layers.2.bn.weight', 'stems.vocals.decoder_layers.2.bn.bias', 'stems.vocals.decoder_layers.2.bn.running_mean', 'stems.vocals.decoder_layers.2.bn.running_var', 'stems.vocals.decoder_layers.2.bn.num_batches_tracked', 'stems.vocals.decoder_layers.3.tconv.weight', 'stems.vocals.decoder_layers.3.tconv.bias', 'stems.vocals.decoder_layers.3.bn.weight', 'stems.vocals.decoder_layers.3.bn.bias', 'stems.vocals.decoder_layers.3.bn.running_mean', 'stems.vocals.decoder_layers.3.bn.running_var', 'stems.vocals.decoder_layers.3.bn.num_batches_tracked', 'stems.vocals.decoder_layers.4.tconv.weight', 'stems.vocals.decoder_layers.4.tconv.bias', 'stems.vocals.decoder_layers.4.bn.weight', 'stems.vocals.decoder_layers.4.bn.bias', 'stems.vocals.decoder_layers.4.bn.running_mean', 'stems.vocals.decoder_layers.4.bn.running_var', 'stems.vocals.decoder_layers.4.bn.num_batches_tracked', 'stems.vocals.decoder_layers.5.tconv.weight', 'stems.vocals.decoder_layers.5.tconv.bias', 'stems.vocals.decoder_layers.5.bn.weight', 'stems.vocals.decoder_layers.5.bn.bias', 'stems.vocals.decoder_layers.5.bn.running_mean', 'stems.vocals.decoder_layers.5.bn.running_var', 'stems.vocals.decoder_layers.5.bn.num_batches_tracked', 'stems.vocals.up_final.weight', 'stems.vocals.up_final.bias', 'stems.accompaniment.encoder_layers.0.conv.weight', 'stems.accompaniment.encoder_layers.0.conv.bias', 'stems.accompaniment.encoder_layers.0.bn.weight', 'stems.accompaniment.encoder_layers.0.bn.bias', 'stems.accompaniment.encoder_layers.0.bn.running_mean', 'stems.accompaniment.encoder_layers.0.bn.running_var', 'stems.accompaniment.encoder_layers.0.bn.num_batches_tracked', 'stems.accompaniment.encoder_layers.1.conv.weight', 'stems.accompaniment.encoder_layers.1.conv.bias', 'stems.accompaniment.encoder_layers.1.bn.weight', 'stems.accompaniment.encoder_layers.1.bn.bias', 'stems.accompaniment.encoder_layers.1.bn.running_mean', 'stems.accompaniment.encoder_layers.1.bn.running_var', 'stems.accompaniment.encoder_layers.1.bn.num_batches_tracked', 'stems.accompaniment.encoder_layers.2.conv.weight', 'stems.accompaniment.encoder_layers.2.conv.bias', 'stems.accompaniment.encoder_layers.2.bn.weight', 'stems.accompaniment.encoder_layers.2.bn.bias', 'stems.accompaniment.encoder_layers.2.bn.running_mean', 'stems.accompaniment.encoder_layers.2.bn.running_var', 'stems.accompaniment.encoder_layers.2.bn.num_batches_tracked', 'stems.accompaniment.encoder_layers.3.conv.weight', 'stems.accompaniment.encoder_layers.3.conv.bias', 'stems.accompaniment.encoder_layers.3.bn.weight', 'stems.accompaniment.encoder_layers.3.bn.bias', 'stems.accompaniment.encoder_layers.3.bn.running_mean', 'stems.accompaniment.encoder_layers.3.bn.running_var', 'stems.accompaniment.encoder_layers.3.bn.num_batches_tracked', 'stems.accompaniment.encoder_layers.4.conv.weight', 'stems.accompaniment.encoder_layers.4.conv.bias', 'stems.accompaniment.encoder_layers.4.bn.weight', 'stems.accompaniment.encoder_layers.4.bn.bias', 'stems.accompaniment.encoder_layers.4.bn.running_mean', 'stems.accompaniment.encoder_layers.4.bn.running_var', 'stems.accompaniment.encoder_layers.4.bn.num_batches_tracked', 'stems.accompaniment.encoder_layers.5.conv.weight', 'stems.accompaniment.encoder_layers.5.conv.bias', 'stems.accompaniment.encoder_layers.5.bn.weight', 'stems.accompaniment.encoder_layers.5.bn.bias', 'stems.accompaniment.encoder_layers.5.bn.running_mean', 'stems.accompaniment.encoder_layers.5.bn.running_var', 'stems.accompaniment.encoder_layers.5.bn.num_batches_tracked', 'stems.accompaniment.decoder_layers.0.tconv.weight', 'stems.accompaniment.decoder_layers.0.tconv.bias', 'stems.accompaniment.decoder_layers.0.bn.weight', 'stems.accompaniment.decoder_layers.0.bn.bias', 'stems.accompaniment.decoder_layers.0.bn.running_mean', 'stems.accompaniment.decoder_layers.0.bn.running_var', 'stems.accompaniment.decoder_layers.0.bn.num_batches_tracked', 'stems.accompaniment.decoder_layers.1.tconv.weight', 'stems.accompaniment.decoder_layers.1.tconv.bias', 'stems.accompaniment.decoder_layers.1.bn.weight', 'stems.accompaniment.decoder_layers.1.bn.bias', 'stems.accompaniment.decoder_layers.1.bn.running_mean', 'stems.accompaniment.decoder_layers.1.bn.running_var', 'stems.accompaniment.decoder_layers.1.bn.num_batches_tracked', 'stems.accompaniment.decoder_layers.2.tconv.weight', 'stems.accompaniment.decoder_layers.2.tconv.bias', 'stems.accompaniment.decoder_layers.2.bn.weight', 'stems.accompaniment.decoder_layers.2.bn.bias', 'stems.accompaniment.decoder_layers.2.bn.running_mean', 'stems.accompaniment.decoder_layers.2.bn.running_var', 'stems.accompaniment.decoder_layers.2.bn.num_batches_tracked', 'stems.accompaniment.decoder_layers.3.tconv.weight', 'stems.accompaniment.decoder_layers.3.tconv.bias', 'stems.accompaniment.decoder_layers.3.bn.weight', 'stems.accompaniment.decoder_layers.3.bn.bias', 'stems.accompaniment.decoder_layers.3.bn.running_mean', 'stems.accompaniment.decoder_layers.3.bn.running_var', 'stems.accompaniment.decoder_layers.3.bn.num_batches_tracked', 'stems.accompaniment.decoder_layers.4.tconv.weight', 'stems.accompaniment.decoder_layers.4.tconv.bias', 'stems.accompaniment.decoder_layers.4.bn.weight', 'stems.accompaniment.decoder_layers.4.bn.bias', 'stems.accompaniment.decoder_layers.4.bn.running_mean', 'stems.accompaniment.decoder_layers.4.bn.running_var', 'stems.accompaniment.decoder_layers.4.bn.num_batches_tracked', 'stems.accompaniment.decoder_layers.5.tconv.weight', 'stems.accompaniment.decoder_layers.5.tconv.bias', 'stems.accompaniment.decoder_layers.5.bn.weight', 'stems.accompaniment.decoder_layers.5.bn.bias', 'stems.accompaniment.decoder_layers.5.bn.running_mean', 'stems.accompaniment.decoder_layers.5.bn.running_var', 'stems.accompaniment.decoder_layers.5.bn.num_batches_tracked', 'stems.accompaniment.up_final.weight', 'stems.accompaniment.up_final.bias'])\n",
      "dict_keys(['epoch', 'model_state_dict', 'optimizer_state_dict', 'loss', 'scheduler'])\n"
     ]
    }
   ],
   "source": [
    "device = torch.device(\"cuda:0\" if torch.cuda.is_available() else \"cpu\")\n",
    "model_path = \"/home/ytang363/7100_spr2023/model/20230325-16_ep-1000_b-16.pt\"\n",
    "model = Splitter(stem_names=[\"vocals\",\"accompaniment\"]) #\"accompaniment\"\n",
    "print(model.state_dict().keys())\n",
    "\n",
    "state_dict = torch.load(model_path)\n",
    "\n",
    "print(state_dict.keys())\n",
    "model.load_state_dict(state_dict['model_state_dict'])\n",
    "\n",
    "mus = musdb.DB(\n",
    "    root=\"/home/ytang363/7100_spr2023/musdb18\",\n",
    "    is_wav=False,\n",
    "    subsets=[\"test\"]\n",
    ")"
   ]
  },
  {
   "cell_type": "code",
   "execution_count": 3,
   "metadata": {},
   "outputs": [],
   "source": [
    "def save_wav(output_dir, data, name):\n",
    "    fpath_dst = Path(output_dir) / name\n",
    "    soundfile.write(fpath_dst, data, 44100, \"PCM_16\")"
   ]
  },
  {
   "cell_type": "code",
   "execution_count": 4,
   "metadata": {},
   "outputs": [],
   "source": [
    "## Test Loader ##\n",
    "# duration = 10\n",
    "# niter = 1 # max 50\n",
    "# output_dir = \"/home/ytang363/7100_spr2023/audio/output\"\n",
    "\n",
    "# sdr_list = []\n",
    "# for i in range(niter):\n",
    "#     track = mus.tracks[2]\n",
    "\n",
    "#     duration = duration if track.duration > duration else np.floor(track.duration).astype(int)\n",
    "#     target = np.zeros((1,(duration-1)*44100, 2))\n",
    "#     est = np.zeros((1,(duration-1)*44100, 2))\n",
    "    \n",
    "#     track.chunk_duration = track.duration\n",
    "#     track.chunk_start = 30 #np.floor(random.uniform(0, track.duration - duration))\n",
    "#     print(\"{}: {}\".format(i,track))\n",
    "\n",
    "#     ## Target ##\n",
    "#     wav_vocal = track.targets['vocals'].audio\n",
    "#     # save_wav(output_dir, wav_vocal, \"target.wav\")\n",
    "#     target[0] = wav_vocal[:(duration-1)*44100]\n",
    "#     print(wav_vocal.shape)\n",
    "\n",
    "#     ## Estimated ##\n",
    "#     wav_ = track.audio.T\n",
    "#     # wav_2 = track.audio\n",
    "#     # save_wav(output_dir, wav_2, \"mixture.wav\")\n",
    "#     wav = torch.Tensor(wav_).to(device)\n",
    "#     with torch.no_grad():\n",
    "#         stems = model.separate(wav)\n",
    "#         vocal = stems[\"vocals\"]\n",
    "#         est_vocal = vocal.cpu().detach().numpy().T\n",
    "#     est[0] = est_vocal[:(duration-1)*44100]\n",
    "\n",
    "#     if np.all(target == 0) or np.all(est == 0):\n",
    "#         eps = 1e-8\n",
    "#         print(\"either reference or est has all zero array\")\n",
    "#     else:\n",
    "#         eps = 0\n",
    "\n",
    "#     (sdr, _, sir, sar, perm) = metrics.bss_eval(target+eps, est+eps, \n",
    "#                                                 window=np.inf, bsseval_sources_version=False)\n",
    "#     sdr = max(sdr, np.array([[0]]))\n",
    "#     print(\"SDR: {}\".format(sdr))\n",
    "#     sdr_list.append(sdr)"
   ]
  },
  {
   "cell_type": "code",
   "execution_count": 5,
   "metadata": {},
   "outputs": [],
   "source": [
    "## Compare between target and est ##\n",
    "# original = wav_[:,0:10*44100]\n",
    "# target_output = target[0].T[:,0:10*44100]\n",
    "# est_output = est[0].T[:,0:10*44100]\n",
    "# print(est_output.shape)\n",
    "# ipd.Audio(est_output, rate=44100)"
   ]
  },
  {
   "cell_type": "code",
   "execution_count": 6,
   "metadata": {},
   "outputs": [],
   "source": [
    "def loadSDR(path):\n",
    "    with open(path) as f:\n",
    "        # Load the JSON data from the file\n",
    "        data = json.load(f)\n",
    "    data = np.array(data)\n",
    "    return data"
   ]
  },
  {
   "cell_type": "code",
   "execution_count": 17,
   "metadata": {},
   "outputs": [
    {
     "name": "stdout",
     "output_type": "stream",
     "text": [
      "4.974491585229268\n"
     ]
    },
    {
     "data": {
      "image/png": "[encoded data removed]",
      "text/plain": [
       "<Figure size 640x480 with 1 Axes>"
      ]
     },
     "metadata": {},
     "output_type": "display_data"
    }
   ],
   "source": [
    "mel = loadSDR(\"/home/ytang363/7100_spr2023/logs-sdr/mel-loss.json\")\n",
    "spectro_mag = loadSDR(\"/home/ytang363/7100_spr2023/logs-sdr/spectro_mag-loss.json\")\n",
    "spectro_l1 = loadSDR(\"/home/ytang363/7100_spr2023/logs-sdr/spectro-loss_l1.json\")\n",
    "spectro = loadSDR(\"/home/ytang363/7100_spr2023/logs-sdr/spectro-loss.json\")\n",
    "print(np.mean(spectro))\n",
    "# print(np.std(spectro))\n",
    "\n",
    "SDR_list = [mel, spectro_mag, spectro_l1, spectro]\n",
    "fig, ax = plt.subplots()\n",
    "ax.boxplot(SDR_list)\n",
    "ax.set_xticklabels(['mel', 'mag spectro mse', 'spectro l1', 'spectro mse'])\n",
    "ax.set_ylabel('SDR')\n",
    "\n",
    "# Show the plot\n",
    "plt.show()"
   ]
  },
  {
   "cell_type": "code",
   "execution_count": 22,
   "metadata": {},
   "outputs": [
    {
     "name": "stdout",
     "output_type": "stream",
     "text": [
      "4.5213627221348185\n"
     ]
    },
    {
     "data": {
      "image/png": "[encoded data removed]",
      "text/plain": [
       "<Figure size 640x480 with 1 Axes>"
      ]
     },
     "metadata": {},
     "output_type": "display_data"
    }
   ],
   "source": [
    "mel = loadSDR(\"/home/ytang363/7100_spr2023/logs-sdr/drums.json\")\n",
    "spectro_mag = loadSDR(\"/home/ytang363/7100_spr2023/logs-sdr/bass.json\")\n",
    "spectro_l1 = loadSDR(\"/home/ytang363/7100_spr2023/logs-sdr/other.json\")\n",
    "spectro = loadSDR(\"/home/ytang363/7100_spr2023/logs-sdr/vocals.json\")\n",
    "print(np.mean(spectro))\n",
    "# print(np.std(spectro))\n",
    "\n",
    "SDR_list = [mel, spectro_mag, spectro_l1, spectro]\n",
    "fig, ax = plt.subplots()\n",
    "ax.boxplot(SDR_list)\n",
    "ax.set_xticklabels(['drums', 'bass', 'other', 'vocals'])\n",
    "ax.set_ylabel('SDR')\n",
    "\n",
    "# Show the plot\n",
    "plt.show()"
   ]
  }
 ],
 "metadata": {
  "kernelspec": {
   "display_name": "conda_env",
   "language": "python",
   "name": "python3"
  },
  "language_info": {
   "codemirror_mode": {
    "name": "ipython",
    "version": 3
   },
   "file_extension": ".py",
   "mimetype": "text/x-python",
   "name": "python",
   "nbconvert_exporter": "python",
   "pygments_lexer": "ipython3",
   "version": "3.8.13"
  },
  "orig_nbformat": 4,
  "vscode": {
   "interpreter": {
    "hash": "ac3687d7a73d53eb34af5f117a03aaf522a63a3d5ce8239f396e3a2511acc945"
   }
  }
 },
 "nbformat": 4,
 "nbformat_minor": 2
}
